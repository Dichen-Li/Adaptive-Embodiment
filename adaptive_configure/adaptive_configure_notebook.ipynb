{
 "cells": [
  {
   "cell_type": "code",
   "execution_count": 2,
   "metadata": {},
   "outputs": [],
   "source": [
    "import os\n",
    "import numpy as np\n",
    "import torch"
   ]
  },
  {
   "cell_type": "code",
   "execution_count": 3,
   "metadata": {},
   "outputs": [],
   "source": [
    "import json\n",
    "h5py_path = os.path.join(os.path.dirname(os.getcwd()), 'logs/rsl_rl/Genhexapod2_genhexapod__KneeNum_l1-0_l2-0_l3-0_l4-0_l5-0_l6-0__ScaleJointLimit_l1-0_l2-0_l3-0_l4-0_l5-0_l6-0_1_0__Geo_scale_all_0_8/2024-12-18_10-38-06/h5py_record/obs_actions_00000.h5')"
   ]
  },
  {
   "cell_type": "code",
   "execution_count": 4,
   "metadata": {},
   "outputs": [],
   "source": [
    "import h5py\n",
    "max_parallel_envs_per_file = 4096\n",
    "with h5py.File(h5py_path, \"r\") as data_file:\n",
    "            inputs = np.array(data_file[\"one_policy_observation\"][:, :max_parallel_envs_per_file])\n",
    "            targets = np.array(data_file[\"actions\"][:, :max_parallel_envs_per_file])"
   ]
  },
  {
   "cell_type": "code",
   "execution_count": 5,
   "metadata": {},
   "outputs": [
    {
     "data": {
      "text/plain": [
       "(200, 4096, 268)"
      ]
     },
     "execution_count": 5,
     "metadata": {},
     "output_type": "execute_result"
    }
   ],
   "source": [
    "inputs.shape"
   ]
  },
  {
   "cell_type": "code",
   "execution_count": 7,
   "metadata": {},
   "outputs": [],
   "source": [
    "class Metadata:\n",
    "    def __init__(self, nr_dynamic_joint_observations, single_dynamic_joint_observation_length,\n",
    "                 dynamic_joint_observation_length, dynamic_joint_description_size,\n",
    "                 trunk_angular_vel_update_obs_idx, goal_velocity_update_obs_idx,\n",
    "                 projected_gravity_update_obs_idx):\n",
    "        self.nr_dynamic_joint_observations = nr_dynamic_joint_observations\n",
    "        self.single_dynamic_joint_observation_length = single_dynamic_joint_observation_length\n",
    "        self.dynamic_joint_observation_length = dynamic_joint_observation_length\n",
    "        self.dynamic_joint_description_size = dynamic_joint_description_size\n",
    "        self.trunk_angular_vel_update_obs_idx = trunk_angular_vel_update_obs_idx\n",
    "        self.goal_velocity_update_obs_idx = goal_velocity_update_obs_idx\n",
    "        self.projected_gravity_update_obs_idx = projected_gravity_update_obs_idx\n",
    "\n",
    "# Example instantiation with sample values\n",
    "metadata = Metadata(\n",
    "    nr_dynamic_joint_observations=12,\n",
    "    single_dynamic_joint_observation_length=21,\n",
    "    dynamic_joint_observation_length=252,\n",
    "    dynamic_joint_description_size=18,\n",
    "    trunk_angular_vel_update_obs_idx=[252, 253, 254],  # Example indices\n",
    "    goal_velocity_update_obs_idx=[255, 256, 257],\n",
    "    projected_gravity_update_obs_idx=[258, 259, 260]\n",
    ")"
   ]
  },
  {
   "cell_type": "code",
   "execution_count": 13,
   "metadata": {},
   "outputs": [],
   "source": [
    "import os\n",
    "import sys\n",
    "sys.path.append(os.path.dirname(os.getcwd())+\"/scripts/rsl_rl\")\n",
    "from utils import one_policy_observation_to_inputs\n",
    "inputs_tensor = torch.tensor(inputs)\n",
    "dynamic_joint_description = []\n",
    "dynamic_joint_state = []\n",
    "general_policy_state = []\n",
    "for i in range(200):\n",
    "    (\n",
    "        dynamic_joint_description_i,\n",
    "        dynamic_joint_state_i,\n",
    "        general_policy_state_i\n",
    "    ) = one_policy_observation_to_inputs(inputs_tensor[i], metadata, 'cuda: 0')\n",
    "    dynamic_joint_description.append(dynamic_joint_description_i)\n",
    "    dynamic_joint_state.append(dynamic_joint_state_i)\n",
    "    general_policy_state.append(general_policy_state_i)\n",
    "\n",
    "\n",
    "dynamic_joint_description = torch.stack((dynamic_joint_description), dim=0)\n",
    "dynamic_joint_state = torch.stack((dynamic_joint_state), dim=0)\n",
    "general_policy_state = torch.stack((general_policy_state), dim=0)"
   ]
  },
  {
   "cell_type": "code",
   "execution_count": 18,
   "metadata": {},
   "outputs": [
    {
     "data": {
      "text/plain": [
       "torch.Size([200, 4096, 12, 3])"
      ]
     },
     "execution_count": 18,
     "metadata": {},
     "output_type": "execute_result"
    }
   ],
   "source": [
    "dynamic_joint_state.shape"
   ]
  },
  {
   "cell_type": "code",
   "execution_count": null,
   "metadata": {},
   "outputs": [
    {
     "data": {
      "text/plain": [
       "(200, 4096, 12)"
      ]
     },
     "metadata": {},
     "output_type": "display_data"
    }
   ],
   "source": [
    "targets.shape"
   ]
  },
  {
   "cell_type": "code",
   "execution_count": null,
   "metadata": {},
   "outputs": [
    {
     "data": {
      "text/plain": [
       "torch.Size([200, 4096, 12, 18])"
      ]
     },
     "metadata": {},
     "output_type": "display_data"
    }
   ],
   "source": [
    "dynamic_joint_description.shape"
   ]
  },
  {
   "cell_type": "code",
   "execution_count": 19,
   "metadata": {},
   "outputs": [
    {
     "data": {
      "text/plain": [
       "torch.Size([200, 4096, 16])"
      ]
     },
     "execution_count": 19,
     "metadata": {},
     "output_type": "execute_result"
    }
   ],
   "source": [
    "general_policy_state.shape"
   ]
  },
  {
   "cell_type": "code",
   "execution_count": 15,
   "metadata": {},
   "outputs": [],
   "source": [
    "import json\n",
    "configure_path = os.path.join(os.path.dirname(os.getcwd()), 'exts/berkeley_humanoid/berkeley_humanoid/assets/Robots/GenBot1K-v2/configure/Genhexapod0_307_averageEnv_policy_description.json')"
   ]
  },
  {
   "cell_type": "code",
   "execution_count": 16,
   "metadata": {},
   "outputs": [],
   "source": [
    "if os.path.isfile(configure_path):\n",
    "    with open(configure_path, 'r') as f:\n",
    "        data_file = json.load(f)\n",
    "        configure = np.array(data_file['Genhexapod2']['dynamic_joint_description'])\n",
    "else:\n",
    "    print(\"[WARNING] File not exists\")"
   ]
  },
  {
   "cell_type": "code",
   "execution_count": 17,
   "metadata": {},
   "outputs": [
    {
     "data": {
      "text/plain": [
       "(12, 18)"
      ]
     },
     "execution_count": 17,
     "metadata": {},
     "output_type": "execute_result"
    }
   ],
   "source": [
    "configure.shape"
   ]
  }
 ],
 "metadata": {
  "kernelspec": {
   "display_name": "isaac_adaptive_project",
   "language": "python",
   "name": "python3"
  },
  "language_info": {
   "codemirror_mode": {
    "name": "ipython",
    "version": 3
   },
   "file_extension": ".py",
   "mimetype": "text/x-python",
   "name": "python",
   "nbconvert_exporter": "python",
   "pygments_lexer": "ipython3",
   "version": "3.10.15"
  }
 },
 "nbformat": 4,
 "nbformat_minor": 2
}
