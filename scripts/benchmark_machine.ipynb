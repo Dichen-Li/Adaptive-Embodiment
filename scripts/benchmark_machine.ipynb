{
 "cells": [
  {
   "cell_type": "code",
   "execution_count": 2,
   "id": "5f604e80-a54b-45ef-b073-ee64c4aa21a9",
   "metadata": {},
   "outputs": [
    {
     "name": "stdout",
     "output_type": "stream",
     "text": [
      "Disk I/O Test Results (File size: 500 MB, Iterations: 10):\n",
      "Average Write Speed: 715.62 MB/s\n",
      "Average Read Speed: 2031.35 MB/s\n"
     ]
    }
   ],
   "source": [
    "import os\n",
    "import time\n",
    "\n",
    "def test_disk_io(file_path=\"test_io.tmp\", file_size_mb=500, iterations=5):\n",
    "    \"\"\"\n",
    "    Tests disk I/O performance by writing and reading a file multiple times.\n",
    "\n",
    "    :param file_path: Path to the test file.\n",
    "    :param file_size_mb: Size of the file to write and read (in MB).\n",
    "    :param iterations: Number of write/read iterations.\n",
    "    \"\"\"\n",
    "    file_size = file_size_mb * 1024 * 1024  # Convert MB to bytes\n",
    "    data = os.urandom(file_size)  # Generate random data of specified size\n",
    "    \n",
    "    write_times = []\n",
    "    read_times = []\n",
    "    \n",
    "    for i in range(iterations):\n",
    "        # Write test\n",
    "        start_time = time.time()\n",
    "        with open(file_path, \"wb\") as f:\n",
    "            f.write(data)\n",
    "        write_time = time.time() - start_time\n",
    "        write_times.append(write_time)\n",
    "        \n",
    "        # Read test\n",
    "        start_time = time.time()\n",
    "        with open(file_path, \"rb\") as f:\n",
    "            f.read()\n",
    "        read_time = time.time() - start_time\n",
    "        read_times.append(read_time)\n",
    "    \n",
    "    # Clean up the test file\n",
    "    if os.path.exists(file_path):\n",
    "        os.remove(file_path)\n",
    "    \n",
    "    # Calculate and display averages\n",
    "    avg_write_speed = file_size_mb / (sum(write_times) / iterations)\n",
    "    avg_read_speed = file_size_mb / (sum(read_times) / iterations)\n",
    "    \n",
    "    print(f\"Disk I/O Test Results (File size: {file_size_mb} MB, Iterations: {iterations}):\")\n",
    "    print(f\"Average Write Speed: {avg_write_speed:.2f} MB/s\")\n",
    "    print(f\"Average Read Speed: {avg_read_speed:.2f} MB/s\")\n",
    "\n",
    "\n",
    "# Test the disk I/O\n",
    "test_disk_io(file_path=\"test_io.tmp\", file_size_mb=500, iterations=10)\n"
   ]
  },
  {
   "cell_type": "code",
   "execution_count": 1,
   "id": "aecf9926-f928-4531-b9a9-1aece9b2dd3d",
   "metadata": {},
   "outputs": [
    {
     "name": "stdout",
     "output_type": "stream",
     "text": [
      "Testing Single-Core Performance...\n",
      "Single-Core Test: 30 computations of 2000x2000 matrices\n",
      "Total Time: 4.16 seconds\n",
      "Average Time per Computation: 0.14 seconds\n",
      "\n",
      "Testing Multi-Core Performance...\n",
      "Multi-Core Test: 30 computations of 2000x2000 matrices using 4 threads\n",
      "Total Time: 4.01 seconds\n",
      "Average Time per Computation (across all threads): 0.13 seconds\n"
     ]
    }
   ],
   "source": [
    "import time\n",
    "from concurrent.futures import ThreadPoolExecutor\n",
    "import numpy as np\n",
    "\n",
    "# Function to perform a computationally intensive task (e.g., matrix multiplication)\n",
    "def intensive_computation(n=1000):\n",
    "    A = np.random.rand(n, n)\n",
    "    B = np.random.rand(n, n)\n",
    "    np.dot(A, B)  # Perform matrix multiplication\n",
    "\n",
    "# Single-Core Test\n",
    "def test_single_core(repeats=10, matrix_size=1000):\n",
    "    start_time = time.time()\n",
    "    for _ in range(repeats):\n",
    "        intensive_computation(matrix_size)\n",
    "    total_time = time.time() - start_time\n",
    "    print(f\"Single-Core Test: {repeats} computations of {matrix_size}x{matrix_size} matrices\")\n",
    "    print(f\"Total Time: {total_time:.2f} seconds\")\n",
    "    print(f\"Average Time per Computation: {total_time / repeats:.2f} seconds\")\n",
    "\n",
    "# Multi-Core Test\n",
    "def test_multi_core(repeats=10, matrix_size=1000, max_workers=4):\n",
    "    start_time = time.time()\n",
    "    with ThreadPoolExecutor(max_workers=max_workers) as executor:\n",
    "        futures = [executor.submit(intensive_computation, matrix_size) for _ in range(repeats)]\n",
    "        for future in futures:\n",
    "            future.result()  # Wait for all tasks to complete\n",
    "    total_time = time.time() - start_time\n",
    "    print(f\"Multi-Core Test: {repeats} computations of {matrix_size}x{matrix_size} matrices using {max_workers} threads\")\n",
    "    print(f\"Total Time: {total_time:.2f} seconds\")\n",
    "    print(f\"Average Time per Computation (across all threads): {total_time / repeats:.2f} seconds\")\n",
    "\n",
    "# Run Tests\n",
    "print(\"Testing Single-Core Performance...\")\n",
    "test_single_core(repeats=30, matrix_size=2000)\n",
    "\n",
    "print(\"\\nTesting Multi-Core Performance...\")\n",
    "test_multi_core(repeats=30, matrix_size=2000, max_workers=4)  # Adjust max_workers to test different levels of parallelism\n"
   ]
  },
  {
   "cell_type": "code",
   "execution_count": null,
   "id": "5685bc46-93cd-4a7c-a0ee-8f20d9cbc35c",
   "metadata": {},
   "outputs": [],
   "source": []
  }
 ],
 "metadata": {
  "kernelspec": {
   "display_name": "Python 3 (ipykernel)",
   "language": "python",
   "name": "python3"
  },
  "language_info": {
   "codemirror_mode": {
    "name": "ipython",
    "version": 3
   },
   "file_extension": ".py",
   "mimetype": "text/x-python",
   "name": "python",
   "nbconvert_exporter": "python",
   "pygments_lexer": "ipython3",
   "version": "3.11.10"
  }
 },
 "nbformat": 4,
 "nbformat_minor": 5
}
